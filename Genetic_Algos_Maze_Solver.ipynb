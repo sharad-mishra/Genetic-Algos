{
  "nbformat": 4,
  "nbformat_minor": 0,
  "metadata": {
    "colab": {
      "provenance": []
    },
    "kernelspec": {
      "name": "python3",
      "display_name": "Python 3"
    },
    "language_info": {
      "name": "python"
    }
  },
  "cells": [
    {
      "cell_type": "code",
      "execution_count": 1,
      "metadata": {
        "id": "nB4p-g3QdHIE",
        "colab": {
          "base_uri": "https://localhost:8080/"
        },
        "outputId": "0de9e370-4d10-4248-e2d9-f67192d2881b"
      },
      "outputs": [
        {
          "output_type": "stream",
          "name": "stdout",
          "text": [
            "Requirement already satisfied: matplotlib in /usr/local/lib/python3.10/dist-packages (3.7.1)\n",
            "Collecting deap\n",
            "  Downloading deap-1.4.1-cp310-cp310-manylinux_2_5_x86_64.manylinux1_x86_64.manylinux_2_17_x86_64.manylinux2014_x86_64.whl (135 kB)\n",
            "\u001b[2K     \u001b[90m━━━━━━━━━━━━━━━━━━━━━━━━━━━━━━━━━━━━━━━━\u001b[0m \u001b[32m135.4/135.4 kB\u001b[0m \u001b[31m1.2 MB/s\u001b[0m eta \u001b[36m0:00:00\u001b[0m\n",
            "\u001b[?25hRequirement already satisfied: contourpy>=1.0.1 in /usr/local/lib/python3.10/dist-packages (from matplotlib) (1.2.1)\n",
            "Requirement already satisfied: cycler>=0.10 in /usr/local/lib/python3.10/dist-packages (from matplotlib) (0.12.1)\n",
            "Requirement already satisfied: fonttools>=4.22.0 in /usr/local/lib/python3.10/dist-packages (from matplotlib) (4.53.0)\n",
            "Requirement already satisfied: kiwisolver>=1.0.1 in /usr/local/lib/python3.10/dist-packages (from matplotlib) (1.4.5)\n",
            "Requirement already satisfied: numpy>=1.20 in /usr/local/lib/python3.10/dist-packages (from matplotlib) (1.25.2)\n",
            "Requirement already satisfied: packaging>=20.0 in /usr/local/lib/python3.10/dist-packages (from matplotlib) (24.1)\n",
            "Requirement already satisfied: pillow>=6.2.0 in /usr/local/lib/python3.10/dist-packages (from matplotlib) (9.4.0)\n",
            "Requirement already satisfied: pyparsing>=2.3.1 in /usr/local/lib/python3.10/dist-packages (from matplotlib) (3.1.2)\n",
            "Requirement already satisfied: python-dateutil>=2.7 in /usr/local/lib/python3.10/dist-packages (from matplotlib) (2.8.2)\n",
            "Requirement already satisfied: six>=1.5 in /usr/local/lib/python3.10/dist-packages (from python-dateutil>=2.7->matplotlib) (1.16.0)\n",
            "Installing collected packages: deap\n",
            "Successfully installed deap-1.4.1\n"
          ]
        }
      ],
      "source": [
        "# Install necessary libraries\n",
        "!pip install matplotlib deap"
      ]
    },
    {
      "cell_type": "code",
      "source": [
        "import random\n",
        "import numpy as np\n",
        "import matplotlib.pyplot as plt\n",
        "from deap import base, creator, tools, algorithms"
      ],
      "metadata": {
        "id": "HM1NYSJrdUFc"
      },
      "execution_count": 2,
      "outputs": []
    },
    {
      "cell_type": "code",
      "source": [
        "# Define the maze\n",
        "maze = [\n",
        "    [0, 0, 0, 1, 1, 1, 1, 1, 1, 1, 1, 1, 1, 1, 0],\n",
        "    [0, 0, 0, 0, 0, 0, 0, 0, 0, 0, 0, 0, 0, 1, 0],\n",
        "    [0, 0, 0, 0, 0, 0, 0, 0, 0, 0, 0, 0, 0, 1, 0],\n",
        "    [1, 1, 0, 0, 0, 0, 0, 0, 0, 0, 0, 0, 0, 1, 0],\n",
        "    [1, 1, 1, 1, 1, 1, 1, 1, 1, 1, 0, 0, 0, 1, 0],\n",
        "    [1, 1, 1, 1, 1, 1, 1, 1, 1, 0, 0, 0, 0, 1, 0],\n",
        "    [1, 1, 1, 1, 1, 1, 1, 1, 0, 0, 0, 0, 0, 0, 0],\n",
        "    [1, 1, 1, 1, 1, 1, 1, 0, 0, 0, 0, 0, 0, 0, 0],\n",
        "    [1, 1, 1, 1, 1, 1, 0, 0, 0, 0, 0, 0, 0, 0, 0],\n",
        "    [1, 1, 1, 1, 1, 0, 0, 0, 0, 1, 1, 1, 1, 0, 0],\n",
        "    [1, 1, 1, 1, 0, 0, 0, 0, 0, 1, 1, 1, 1, 0, 0],\n",
        "    [1, 1, 1, 0, 0, 0, 0, 0, 0, 0, 0, 0, 0, 0, 0],\n",
        "    [1, 1, 0, 0, 1, 1, 1, 0, 0, 0, 0, 0, 0, 0, 0],\n",
        "    [1, 0, 0, 1, 1, 1, 1, 1, 1, 1, 1, 1, 0, 0, 0],\n",
        "    [0, 0, 1, 1, 1, 1, 1, 1, 1, 1, 1, 1, 0, 0, 0]\n",
        "]\n",
        "\n",
        "# Start and end points\n",
        "start, end = (0, 0), (len(maze)-1, len(maze[0])-1)"
      ],
      "metadata": {
        "id": "cPhZ5JcgdWBz"
      },
      "execution_count": 3,
      "outputs": []
    },
    {
      "cell_type": "code",
      "source": [
        "# Genetic Algorithm setup\n",
        "creator.create(\"FitnessMin\", base.Fitness, weights=(-1.0,))\n",
        "creator.create(\"Individual\", list, fitness=creator.FitnessMin)\n",
        "\n",
        "toolbox = base.Toolbox()\n",
        "toolbox.register(\"attr_direction\", random.choice, ['U', 'D', 'L', 'R'])\n",
        "toolbox.register(\"individual\", tools.initRepeat, creator.Individual, toolbox.attr_direction, n=100)\n",
        "toolbox.register(\"population\", tools.initRepeat, list, toolbox.individual)"
      ],
      "metadata": {
        "id": "kvXtHCixdYPi"
      },
      "execution_count": 4,
      "outputs": []
    },
    {
      "cell_type": "code",
      "source": [
        "def evaluate(individual):\n",
        "    x, y = start\n",
        "    for move in individual:\n",
        "        # Move up, down, left, or right while checking boundaries\n",
        "        if move == 'U': y = max(0, y - 1)\n",
        "        elif move == 'D': y = min(len(maze) - 1, y + 1)\n",
        "        elif move == 'L': x = max(0, x - 1)\n",
        "        elif move == 'R': x = min(len(maze[0]) - 1, x + 1)\n",
        "\n",
        "        # Check if the current position is the end goal\n",
        "        if (x, y) == end:\n",
        "            return (0,)  # Perfect score since we reached the end\n",
        "\n",
        "        # Check if the current position is a wall\n",
        "        if maze[y][x] == 1:\n",
        "            break\n",
        "\n",
        "    # Return the Manhattan distance to the end point as the score\n",
        "    return (abs(end[0] - x) + abs(end[1] - y),)"
      ],
      "metadata": {
        "id": "nptnRzRWeV0K"
      },
      "execution_count": 5,
      "outputs": []
    },
    {
      "cell_type": "code",
      "source": [
        "def custom_mutate(individual, indpb=0.2):\n",
        "    directions = ['U', 'D', 'L', 'R']\n",
        "    for i in range(len(individual)):\n",
        "        if random.random() < indpb:\n",
        "            # Exclude the current direction to ensure mutation changes the gene\n",
        "            possible_directions = [d for d in directions if d != individual[i]]\n",
        "            individual[i] = random.choice(possible_directions)\n",
        "    return individual,"
      ],
      "metadata": {
        "id": "BYgZ6Xgrrg3D"
      },
      "execution_count": 6,
      "outputs": []
    },
    {
      "cell_type": "code",
      "source": [
        "toolbox.register(\"evaluate\", evaluate)\n",
        "toolbox.register(\"select\", tools.selTournament, tournsize=3)\n",
        "toolbox.register(\"mate\", tools.cxUniform, indpb=0.5)\n",
        "toolbox.register(\"mutate\", custom_mutate, indpb=0.2)"
      ],
      "metadata": {
        "id": "fKspCxK7eYLX"
      },
      "execution_count": 7,
      "outputs": []
    },
    {
      "cell_type": "code",
      "source": [
        "# Function to visualize the maze and path\n",
        "def plot_path(individual):\n",
        "    x, y = start\n",
        "    plt.plot(x, y, \"go\")  # start point\n",
        "    for move in individual:\n",
        "        # Attempt the move\n",
        "        next_x, next_y = x, y\n",
        "        if move == 'U': next_y = max(0, y - 1)\n",
        "        elif move == 'D': next_y = min(len(maze) - 1, y + 1)\n",
        "        elif move == 'L': next_x = max(0, x - 1)\n",
        "        elif move == 'R': next_x = min(len(maze[0]) - 1, x + 1)\n",
        "\n",
        "        # Check for wall collision before plotting the move\n",
        "        if maze[next_y][next_x] == 1 or (next_x, next_y) == end: break\n",
        "        # No collision, so make the move and plot it\n",
        "        x, y = next_x, next_y\n",
        "        # plt.plot(x, y, \"bo\")\n",
        "\n",
        "    plt.plot(end[0], end[1], \"ro\")  # end point\n",
        "    plt.imshow(maze, cmap=\"binary\")\n",
        "    plt.show()"
      ],
      "metadata": {
        "id": "Ev7HOFC6eaZC"
      },
      "execution_count": 8,
      "outputs": []
    },
    {
      "cell_type": "code",
      "source": [
        "# Run the genetic algorithm\n",
        "def run_ga(generations=2000, pop_size=50):\n",
        "    pop = toolbox.population(n=pop_size)\n",
        "    best_individuals = []\n",
        "    for gen in range(generations):\n",
        "        offspring = algorithms.varAnd(pop, toolbox, cxpb=0.5, mutpb=0.2)\n",
        "        fits = toolbox.map(toolbox.evaluate, offspring)\n",
        "        for fit, ind in zip(fits, offspring):\n",
        "            ind.fitness.values = fit\n",
        "        pop = toolbox.select(offspring, k=len(pop))\n",
        "        top_individual = tools.selBest(pop, k=1)[0]\n",
        "        best_individuals.append(top_individual)\n",
        "\n",
        "        if gen in [2, 10, 50, 100, 500] or gen == generations - 1:\n",
        "            print(f\"Generation {gen}:\")\n",
        "            plot_path(top_individual)"
      ],
      "metadata": {
        "id": "0v4dE3Jpeca2"
      },
      "execution_count": 9,
      "outputs": []
    },
    {
      "cell_type": "code",
      "source": [
        "run_ga()"
      ],
      "metadata": {
        "id": "Zwn_w5VHefiW",
        "colab": {
          "base_uri": "https://localhost:8080/",
          "height": 1000
        },
        "outputId": "b448aa48-4ca4-4c39-9517-b1b497e0e178"
      },
      "execution_count": 10,
      "outputs": [
        {
          "output_type": "stream",
          "name": "stdout",
          "text": [
            "Generation 2:\n"
          ]
        },
        {
          "output_type": "display_data",
          "data": {
            "text/plain": [
              "<Figure size 640x480 with 1 Axes>"
            ],
            "image/png": "[encoded data removed]"
          },
          "metadata": {}
        },
        {
          "output_type": "stream",
          "name": "stdout",
          "text": [
            "Generation 10:\n"
          ]
        },
        {
          "output_type": "display_data",
          "data": {
            "text/plain": [
              "<Figure size 640x480 with 1 Axes>"
            ],
            "image/png": "[encoded data removed]"
          },
          "metadata": {}
        },
        {
          "output_type": "stream",
          "name": "stdout",
          "text": [
            "Generation 50:\n"
          ]
        },
        {
          "output_type": "display_data",
          "data": {
            "text/plain": [
              "<Figure size 640x480 with 1 Axes>"
            ],
            "image/png": "[encoded data removed]"
          },
          "metadata": {}
        },
        {
          "output_type": "stream",
          "name": "stdout",
          "text": [
            "Generation 100:\n"
          ]
        },
        {
          "output_type": "display_data",
          "data": {
            "text/plain": [
              "<Figure size 640x480 with 1 Axes>"
            ],
            "image/png": "[encoded data removed]"
          },
          "metadata": {}
        },
        {
          "output_type": "stream",
          "name": "stdout",
          "text": [
            "Generation 500:\n"
          ]
        },
        {
          "output_type": "display_data",
          "data": {
            "text/plain": [
              "<Figure size 640x480 with 1 Axes>"
            ],
            "image/png": "[encoded data removed]"
          },
          "metadata": {}
        },
        {
          "output_type": "stream",
          "name": "stdout",
          "text": [
            "Generation 1999:\n"
          ]
        },
        {
          "output_type": "display_data",
          "data": {
            "text/plain": [
              "<Figure size 640x480 with 1 Axes>"
            ],
            "image/png": "[encoded data removed]"
          },
          "metadata": {}
        }
      ]
    },
    {
      "cell_type": "code",
      "source": [
        "def evaluate(individual):\n",
        "    x, y = start\n",
        "    steps = 0  # Initialize steps taken\n",
        "    for move in individual:\n",
        "        steps += 1  # Increment steps at each move\n",
        "\n",
        "        # Move up, down, left, or right while checking boundaries\n",
        "        if move == 'U': y = max(0, y - 1)\n",
        "        elif move == 'D': y = min(len(maze) - 1, y + 1)\n",
        "        elif move == 'L': x = max(0, x - 1)\n",
        "        elif move == 'R': x = min(len(maze[0]) - 1, x + 1)\n",
        "\n",
        "        # Check if the current position is the end goal\n",
        "        if (x, y) == end:\n",
        "            return (steps,)  # Return the number of steps taken\n",
        "\n",
        "        # Check if the current position is a wall\n",
        "        if maze[y][x] == 1:\n",
        "            break  # Hit a wall, break out of the loop\n",
        "\n",
        "    # Did not reach the goal, return 100 plus the Manhattan distance to the end\n",
        "    return (100 + abs(end[0] - x) + abs(end[1] - y),)\n"
      ],
      "metadata": {
        "id": "5DXqeXdLnR6Z"
      },
      "execution_count": 12,
      "outputs": []
    }
  ]
}